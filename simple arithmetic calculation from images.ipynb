{
 "cells": [
  {
   "cell_type": "markdown",
   "id": "9eacb265",
   "metadata": {},
   "source": [
    "# Importing the libraries"
   ]
  },
  {
   "cell_type": "code",
   "execution_count": 1,
   "id": "46c37e41",
   "metadata": {},
   "outputs": [],
   "source": [
    "from PIL import Image, ImageDraw\n",
    "import numpy as np\n",
    "import matplotlib.pyplot as plt\n",
    "import random\n",
    "import tensorflow as tf\n",
    "import pandas as pd"
   ]
  },
  {
   "cell_type": "markdown",
   "id": "baea13a0",
   "metadata": {},
   "source": [
    "## Creating a Dataset\n",
    "WE WANT TO CREATE A DATASET WHICH HAS IMAGES OF SIZE 15*50 OF TWO 2-DIGIT NUMBERS WITH PLUS OR MINUS SIGN BETWEEN THEM.WE WILL STACK SAMPLES OF SUCH IMAGES IN A NUMPY ARRAY  CALLED 'X'. WE will put the addition or substraction value of the numbers in an array 'Y'.\n",
    "eg-"
   ]
  },
  {
   "cell_type": "code",
   "execution_count": 2,
   "id": "a9e44dcd",
   "metadata": {},
   "outputs": [
    {
     "data": {
      "image/png": "[encoded data removed]",
      "text/plain": [
       "<PIL.Image.Image image mode=RGB size=50x15 at 0x1A93209D9D0>"
      ]
     },
     "execution_count": 2,
     "metadata": {},
     "output_type": "execute_result"
    }
   ],
   "source": [
    "img = Image.new('RGB', (50,15), color = (0,255,0))\n",
    "d = ImageDraw.Draw(img)\n",
    "d.text((1,2), \"100+200\", fill=(0,0,255))\n",
    "img"
   ]
  },
  {
   "cell_type": "markdown",
   "id": "2b584b9d",
   "metadata": {},
   "source": [
    "The output or the label will be '300'.\n",
    "\n",
    "Our object of making such a project is to find if the Neural Network can figure out simple rules of arithematics or is it just good at finding similarity between images"
   ]
  },
  {
   "cell_type": "code",
   "execution_count": 372,
   "id": "6f0f03f1",
   "metadata": {},
   "outputs": [],
   "source": [
    "X=np.ones([1,15,50])\n",
    "Y=0\n",
    "for i in range(5000):\n",
    "    #randomly generation two number\n",
    "    number1=np.random.randint(0,100)\n",
    "    number2=np.random.randint(0,100)\n",
    "    \n",
    "    #randomly choosing which arithematic operation to perform\n",
    "    Sign=random.choice([1,2])\n",
    "    if Sign==2:\n",
    "        sign='+'\n",
    "    else:\n",
    "        sign='-'\n",
    "    \n",
    "    \n",
    "    #creating the image\n",
    "    img = Image.new('RGB', (50,15), color = (0,255,0))\n",
    "    d = ImageDraw.Draw(img)\n",
    "    output_value=number1+(number2*(-1)**Sign)\n",
    "    d.text((1,2), str(number1)+sign+str(number2), fill=(0,0,255))   \n",
    "    \n",
    "    \n",
    "    #stacking the images\n",
    "    X0=np.array(img)\n",
    "    X0=X0[:,:,2]\n",
    "    X0=np.expand_dims(X0,0)\n",
    "    X=np.vstack([X,X0])\n",
    "    \n",
    "    \n",
    "    ##stacking the labels\n",
    "    Y0=output_value\n",
    "    Y=np.hstack([Y,Y0])      "
   ]
  },
  {
   "cell_type": "markdown",
   "id": "5a31cbf2",
   "metadata": {},
   "source": [
    "checking if we have created a proper dataset.\n",
    "rerun to check different samples"
   ]
  },
  {
   "cell_type": "code",
   "execution_count": 287,
   "id": "e55a61e2",
   "metadata": {},
   "outputs": [
    {
     "data": {
      "text/plain": [
       "Text(0.5, 1.0, '44')"
      ]
     },
     "execution_count": 287,
     "metadata": {},
     "output_type": "execute_result"
    },
    {
     "data": {
      "image/png": "[encoded data removed]",
      "text/plain": [
       "<Figure size 432x288 with 1 Axes>"
      ]
     },
     "metadata": {
      "needs_background": "light"
     },
     "output_type": "display_data"
    }
   ],
   "source": [
    "o=np.random.randint(0,2000)\n",
    "plt.imshow(X[o,:,:])\n",
    "plt.title(Y[o])"
   ]
  },
  {
   "cell_type": "markdown",
   "id": "71719bb5",
   "metadata": {},
   "source": [
    "### creating training and test set "
   ]
  },
  {
   "cell_type": "code",
   "execution_count": 373,
   "id": "eff50317",
   "metadata": {},
   "outputs": [],
   "source": [
    "X_train=X[:4000,:,:]\n",
    "Y_train=Y[:4000]\n",
    "X_test=X[4000:,:,:]\n",
    "Y_test=Y[4000:]"
   ]
  },
  {
   "cell_type": "markdown",
   "id": "fb8090ff",
   "metadata": {},
   "source": [
    "### puting our data in a tensorflow sequential model"
   ]
  },
  {
   "cell_type": "code",
   "execution_count": 273,
   "id": "571e2979",
   "metadata": {},
   "outputs": [],
   "source": [
    "model=tf.keras.Sequential()\n",
    "model.add(tf.keras.layers.Flatten(input_shape=(15,50)))\n",
    "model.add(tf.keras.layers.Dense(10,activation='relu'))\n",
    "model.add(tf.keras.layers.Dense(10,activation='relu'))\n",
    "model.add(tf.keras.layers.Dense(1,activation='linear'))"
   ]
  },
  {
   "cell_type": "code",
   "execution_count": 323,
   "id": "c6faac06",
   "metadata": {},
   "outputs": [],
   "source": [
    "model.compile(loss=tf.keras.losses.MAE, optimizer=tf.keras.optimizers.Adam(learning_rate=0.000001),metrics='MAE')"
   ]
  },
  {
   "cell_type": "code",
   "execution_count": 324,
   "id": "467fbe98",
   "metadata": {
    "scrolled": true
   },
   "outputs": [
    {
     "name": "stdout",
     "output_type": "stream",
     "text": [
      "Epoch 1/50\n",
      "63/63 [==============================] - 1s 2ms/step - loss: 0.3607 - MAE: 0.3607\n",
      "Epoch 2/50\n",
      "63/63 [==============================] - 0s 2ms/step - loss: 0.3595 - MAE: 0.3595\n",
      "Epoch 3/50\n",
      "63/63 [==============================] - 0s 2ms/step - loss: 0.3593 - MAE: 0.3593\n",
      "Epoch 4/50\n",
      "63/63 [==============================] - 0s 2ms/step - loss: 0.3594 - MAE: 0.3594\n",
      "Epoch 5/50\n",
      "63/63 [==============================] - 0s 2ms/step - loss: 0.3593 - MAE: 0.3593\n",
      "Epoch 6/50\n",
      "63/63 [==============================] - 0s 2ms/step - loss: 0.3594 - MAE: 0.3594\n",
      "Epoch 7/50\n",
      "63/63 [==============================] - 0s 2ms/step - loss: 0.3593 - MAE: 0.3593\n",
      "Epoch 8/50\n",
      "63/63 [==============================] - 0s 2ms/step - loss: 0.3592 - MAE: 0.3592\n",
      "Epoch 9/50\n",
      "63/63 [==============================] - 0s 2ms/step - loss: 0.3592 - MAE: 0.3592\n",
      "Epoch 10/50\n",
      "63/63 [==============================] - 0s 2ms/step - loss: 0.3592 - MAE: 0.3592\n",
      "Epoch 11/50\n",
      "63/63 [==============================] - 0s 2ms/step - loss: 0.3593 - MAE: 0.3593\n",
      "Epoch 12/50\n",
      "63/63 [==============================] - 0s 2ms/step - loss: 0.3592 - MAE: 0.3592\n",
      "Epoch 13/50\n",
      "63/63 [==============================] - 0s 2ms/step - loss: 0.3590 - MAE: 0.3590\n",
      "Epoch 14/50\n",
      "63/63 [==============================] - 0s 2ms/step - loss: 0.3593 - MAE: 0.3593\n",
      "Epoch 15/50\n",
      "63/63 [==============================] - 0s 2ms/step - loss: 0.3591 - MAE: 0.3591\n",
      "Epoch 16/50\n",
      "63/63 [==============================] - 0s 2ms/step - loss: 0.3591 - MAE: 0.3591\n",
      "Epoch 17/50\n",
      "63/63 [==============================] - 0s 2ms/step - loss: 0.3591 - MAE: 0.3591\n",
      "Epoch 18/50\n",
      "63/63 [==============================] - 0s 2ms/step - loss: 0.3591 - MAE: 0.3591\n",
      "Epoch 19/50\n",
      "63/63 [==============================] - 0s 2ms/step - loss: 0.3592 - MAE: 0.3592\n",
      "Epoch 20/50\n",
      "63/63 [==============================] - 0s 2ms/step - loss: 0.3592 - MAE: 0.3592\n",
      "Epoch 21/50\n",
      "63/63 [==============================] - 0s 2ms/step - loss: 0.3590 - MAE: 0.3590\n",
      "Epoch 22/50\n",
      "63/63 [==============================] - 0s 3ms/step - loss: 0.3591 - MAE: 0.3591\n",
      "Epoch 23/50\n",
      "63/63 [==============================] - 0s 2ms/step - loss: 0.3591 - MAE: 0.3591\n",
      "Epoch 24/50\n",
      "63/63 [==============================] - 0s 2ms/step - loss: 0.3592 - MAE: 0.3592\n",
      "Epoch 25/50\n",
      "63/63 [==============================] - 0s 2ms/step - loss: 0.3589 - MAE: 0.3589\n",
      "Epoch 26/50\n",
      "63/63 [==============================] - 0s 2ms/step - loss: 0.3591 - MAE: 0.3591\n",
      "Epoch 27/50\n",
      "63/63 [==============================] - 0s 3ms/step - loss: 0.3591 - MAE: 0.3591\n",
      "Epoch 28/50\n",
      "63/63 [==============================] - 0s 2ms/step - loss: 0.3590 - MAE: 0.3590\n",
      "Epoch 29/50\n",
      "63/63 [==============================] - 0s 2ms/step - loss: 0.3591 - MAE: 0.3591\n",
      "Epoch 30/50\n",
      "63/63 [==============================] - 0s 2ms/step - loss: 0.3590 - MAE: 0.3590\n",
      "Epoch 31/50\n",
      "63/63 [==============================] - 0s 3ms/step - loss: 0.3591 - MAE: 0.3591\n",
      "Epoch 32/50\n",
      "63/63 [==============================] - 0s 2ms/step - loss: 0.3593 - MAE: 0.3593\n",
      "Epoch 33/50\n",
      "63/63 [==============================] - 0s 3ms/step - loss: 0.3591 - MAE: 0.3591\n",
      "Epoch 34/50\n",
      "63/63 [==============================] - 0s 3ms/step - loss: 0.3592 - MAE: 0.3592\n",
      "Epoch 35/50\n",
      "63/63 [==============================] - 0s 3ms/step - loss: 0.3592 - MAE: 0.3592\n",
      "Epoch 36/50\n",
      "63/63 [==============================] - 0s 3ms/step - loss: 0.3590 - MAE: 0.3590\n",
      "Epoch 37/50\n",
      "63/63 [==============================] - 0s 3ms/step - loss: 0.3589 - MAE: 0.3589\n",
      "Epoch 38/50\n",
      "63/63 [==============================] - 0s 3ms/step - loss: 0.3590 - MAE: 0.3590\n",
      "Epoch 39/50\n",
      "63/63 [==============================] - 0s 3ms/step - loss: 0.3590 - MAE: 0.3590\n",
      "Epoch 40/50\n",
      "63/63 [==============================] - 0s 3ms/step - loss: 0.3590 - MAE: 0.3590\n",
      "Epoch 41/50\n",
      "63/63 [==============================] - 0s 3ms/step - loss: 0.3590 - MAE: 0.3590\n",
      "Epoch 42/50\n",
      "63/63 [==============================] - 0s 3ms/step - loss: 0.3591 - MAE: 0.3591\n",
      "Epoch 43/50\n",
      "63/63 [==============================] - 0s 3ms/step - loss: 0.3590 - MAE: 0.3590\n",
      "Epoch 44/50\n",
      "63/63 [==============================] - 0s 3ms/step - loss: 0.3593 - MAE: 0.3593\n",
      "Epoch 45/50\n",
      "63/63 [==============================] - 0s 3ms/step - loss: 0.3591 - MAE: 0.3591\n",
      "Epoch 46/50\n",
      "63/63 [==============================] - 0s 3ms/step - loss: 0.3591 - MAE: 0.3591\n",
      "Epoch 47/50\n",
      "63/63 [==============================] - 0s 3ms/step - loss: 0.3591 - MAE: 0.3591\n",
      "Epoch 48/50\n",
      "63/63 [==============================] - 0s 2ms/step - loss: 0.3590 - MAE: 0.3590\n",
      "Epoch 49/50\n",
      "63/63 [==============================] - 0s 2ms/step - loss: 0.3595 - MAE: 0.3595\n",
      "Epoch 50/50\n",
      "63/63 [==============================] - 0s 2ms/step - loss: 0.3591 - MAE: 0.3591\n"
     ]
    }
   ],
   "source": [
    "history=model.fit(X,Y,epochs=50)"
   ]
  },
  {
   "cell_type": "code",
   "execution_count": 325,
   "id": "d8da4223",
   "metadata": {
    "scrolled": true
   },
   "outputs": [
    {
     "data": {
      "text/plain": [
       "<AxesSubplot:>"
      ]
     },
     "execution_count": 325,
     "metadata": {},
     "output_type": "execute_result"
    },
    {
     "data": {
      "image/png": "[encoded data removed]",
      "text/plain": [
       "<Figure size 432x288 with 1 Axes>"
      ]
     },
     "metadata": {
      "needs_background": "light"
     },
     "output_type": "display_data"
    }
   ],
   "source": [
    "pd.DataFrame(history.history).plot()"
   ]
  },
  {
   "cell_type": "code",
   "execution_count": 362,
   "id": "b144d9d2",
   "metadata": {},
   "outputs": [],
   "source": [
    "## uploading already trained model for \n",
    "model = tf.keras.models.load_model('os.chdir')"
   ]
  },
  {
   "cell_type": "code",
   "execution_count": 367,
   "id": "976e9e8a",
   "metadata": {},
   "outputs": [],
   "source": [
    "example='10+2'            #custom camples to check the accuracy and limitations of the model\n",
    "img = Image.new('RGB', (50,15), color = (0,255,0))\n",
    "d = ImageDraw.Draw(img)\n",
    "d.text((1,2),example,fill=(0,0,255))\n",
    "img_array=np.array(img)\n",
    "img_array=np.expand_dims(img_array[:,:,2],axis=0)\n",
    "model.predict(img_array)"
   ]
  },
  {
   "cell_type": "code",
   "execution_count": 374,
   "id": "058522be",
   "metadata": {},
   "outputs": [
    {
     "name": "stdout",
     "output_type": "stream",
     "text": [
      "32/32 [==============================] - 0s 1ms/step - loss: 0.4995 - MAE: 0.4995\n"
     ]
    },
    {
     "data": {
      "text/plain": [
       "[0.49945610761642456, 0.49945610761642456]"
      ]
     },
     "execution_count": 374,
     "metadata": {},
     "output_type": "execute_result"
    }
   ],
   "source": [
    "model.evaluate(X_test,Y_test)"
   ]
  },
  {
   "cell_type": "markdown",
   "id": "7ffda137",
   "metadata": {},
   "source": [
    "### the mean error of our model is 0.4995."
   ]
  },
  {
   "cell_type": "markdown",
   "id": "a6b9239d",
   "metadata": {},
   "source": [
    "conclusion--\n",
    "\n",
    "the neural network algorithm is able to figure out some rules of arithematics from images.Our model is trained for adding and subtracting two digit numbers and it works great with 2 digit number but it is unable to calculate 3 digit arithematic problems "
   ]
  },
  {
   "cell_type": "code",
   "execution_count": null,
   "id": "afa57bed",
   "metadata": {},
   "outputs": [],
   "source": []
  }
 ],
 "metadata": {
  "kernelspec": {
   "display_name": "Python 3",
   "language": "python",
   "name": "python3"
  },
  "language_info": {
   "codemirror_mode": {
    "name": "ipython",
    "version": 3
   },
   "file_extension": ".py",
   "mimetype": "text/x-python",
   "name": "python",
   "nbconvert_exporter": "python",
   "pygments_lexer": "ipython3",
   "version": "3.8.8"
  }
 },
 "nbformat": 4,
 "nbformat_minor": 5
}
